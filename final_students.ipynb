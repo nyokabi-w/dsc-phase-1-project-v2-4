{
 "cells": [
  {
   "cell_type": "markdown",
   "metadata": {},
   "source": [
    "## Final Project Submission\n",
    "\n",
    "Please fill out:\n",
    "* Student name: Nyokabi Waiganjo\n",
    "* Student pace: full time\n",
    "* Scheduled project review date/time: 11th March 2023\n",
    "* Instructor name: \n",
    "* Blog post URL: https://github.com/nyokabi-w/dsc-phase-1-project-v2-4/blob/master/student.ipynb\n"
   ]
  },
  {
   "cell_type": "markdown",
   "metadata": {},
   "source": [
    "# MICROSOFT  ANALYSIS."
   ]
  },
  {
   "cell_type": "markdown",
   "metadata": {},
   "source": [
    "![Microsoft hollywood](microsoft_1.jpg)"
   ]
  },
  {
   "cell_type": "markdown",
   "metadata": {},
   "source": [
    "## Project Overview"
   ]
  },
  {
   "cell_type": "markdown",
   "metadata": {},
   "source": [
    "The projects aims at using exploratory data analysis. we will identify the relevant data we need from the available datasets, clean the data, then use descriptive analysis to analyse the data. The outcome from our analysis to generate meaningful insights that microsoft will use to make calculated business moves. \n"
   ]
  },
  {
   "cell_type": "markdown",
   "metadata": {},
   "source": [
    "## Business Problem"
   ]
  },
  {
   "cell_type": "markdown",
   "metadata": {},
   "source": [
    "Microsoft has looked at the movie making market and has seen a business opportunity. They are seeking to create a new studio for movie productions. Since microsoft is new to the film making industry we will look at which genre of films are currently doing well so that microsoft can know which films to create. "
   ]
  },
  {
   "cell_type": "markdown",
   "metadata": {},
   "source": [
    "## Data Understanding"
   ]
  },
  {
   "cell_type": "markdown",
   "metadata": {},
   "source": [
    "Since microsoft wants to join the film making industry it doesnt have data of its own. We are using data that was collected from various locations. The data collected includes movie ratings and movie basics that are associated with movie ids. The datasets provides alot of information that includes domestic and foreign gross, movie budgets and the genres of movies."
   ]
  },
  {
   "cell_type": "markdown",
   "metadata": {},
   "source": [
    "### Importing Libraries"
   ]
  },
  {
   "cell_type": "code",
   "execution_count": 6,
   "metadata": {},
   "outputs": [],
   "source": [
    "# importing libraries\n",
    "import pandas as pd\n",
    "import matplotlib.pyplot as plt\n",
    "%matplotlib inline\n",
    "import seaborn as sns\n",
    "import sqlite3"
   ]
  },
  {
   "cell_type": "markdown",
   "metadata": {},
   "source": [
    "#  Movie Budget Data."
   ]
  },
  {
   "cell_type": "markdown",
   "metadata": {},
   "source": [
    "Data cleaning for the movie budget movies dataset. The cleaning will include checking for missing values and duplicate values. Depending on the number of values missing we might drop either the rows containing the missing values or group the entire column if the missing values are too many. For the duplicates we will keep the first row and drop the rest of the duplicates. since the data has no missing values we are working with duplicates."
   ]
  },
  {
   "cell_type": "code",
   "execution_count": 7,
   "metadata": {},
   "outputs": [],
   "source": [
    "# importing movie budget data\n",
    "tn_movies = pd.read_csv(\"tn.movie_budgets.csv\" , index_col = 0)"
   ]
  },
  {
   "cell_type": "code",
   "execution_count": 8,
   "metadata": {},
   "outputs": [
    {
     "data": {
      "text/html": [
       "<div>\n",
       "<style scoped>\n",
       "    .dataframe tbody tr th:only-of-type {\n",
       "        vertical-align: middle;\n",
       "    }\n",
       "\n",
       "    .dataframe tbody tr th {\n",
       "        vertical-align: top;\n",
       "    }\n",
       "\n",
       "    .dataframe thead th {\n",
       "        text-align: right;\n",
       "    }\n",
       "</style>\n",
       "<table border=\"1\" class=\"dataframe\">\n",
       "  <thead>\n",
       "    <tr style=\"text-align: right;\">\n",
       "      <th></th>\n",
       "      <th>release_date</th>\n",
       "      <th>movie</th>\n",
       "      <th>production_budget</th>\n",
       "      <th>domestic_gross</th>\n",
       "      <th>worldwide_gross</th>\n",
       "    </tr>\n",
       "    <tr>\n",
       "      <th>id</th>\n",
       "      <th></th>\n",
       "      <th></th>\n",
       "      <th></th>\n",
       "      <th></th>\n",
       "      <th></th>\n",
       "    </tr>\n",
       "  </thead>\n",
       "  <tbody>\n",
       "    <tr>\n",
       "      <th>1</th>\n",
       "      <td>Dec 18, 2009</td>\n",
       "      <td>Avatar</td>\n",
       "      <td>$425,000,000</td>\n",
       "      <td>$760,507,625</td>\n",
       "      <td>$2,776,345,279</td>\n",
       "    </tr>\n",
       "    <tr>\n",
       "      <th>2</th>\n",
       "      <td>May 20, 2011</td>\n",
       "      <td>Pirates of the Caribbean: On Stranger Tides</td>\n",
       "      <td>$410,600,000</td>\n",
       "      <td>$241,063,875</td>\n",
       "      <td>$1,045,663,875</td>\n",
       "    </tr>\n",
       "    <tr>\n",
       "      <th>3</th>\n",
       "      <td>Jun 7, 2019</td>\n",
       "      <td>Dark Phoenix</td>\n",
       "      <td>$350,000,000</td>\n",
       "      <td>$42,762,350</td>\n",
       "      <td>$149,762,350</td>\n",
       "    </tr>\n",
       "    <tr>\n",
       "      <th>4</th>\n",
       "      <td>May 1, 2015</td>\n",
       "      <td>Avengers: Age of Ultron</td>\n",
       "      <td>$330,600,000</td>\n",
       "      <td>$459,005,868</td>\n",
       "      <td>$1,403,013,963</td>\n",
       "    </tr>\n",
       "    <tr>\n",
       "      <th>5</th>\n",
       "      <td>Dec 15, 2017</td>\n",
       "      <td>Star Wars Ep. VIII: The Last Jedi</td>\n",
       "      <td>$317,000,000</td>\n",
       "      <td>$620,181,382</td>\n",
       "      <td>$1,316,721,747</td>\n",
       "    </tr>\n",
       "    <tr>\n",
       "      <th>...</th>\n",
       "      <td>...</td>\n",
       "      <td>...</td>\n",
       "      <td>...</td>\n",
       "      <td>...</td>\n",
       "      <td>...</td>\n",
       "    </tr>\n",
       "    <tr>\n",
       "      <th>78</th>\n",
       "      <td>Dec 31, 2018</td>\n",
       "      <td>Red 11</td>\n",
       "      <td>$7,000</td>\n",
       "      <td>$0</td>\n",
       "      <td>$0</td>\n",
       "    </tr>\n",
       "    <tr>\n",
       "      <th>79</th>\n",
       "      <td>Apr 2, 1999</td>\n",
       "      <td>Following</td>\n",
       "      <td>$6,000</td>\n",
       "      <td>$48,482</td>\n",
       "      <td>$240,495</td>\n",
       "    </tr>\n",
       "    <tr>\n",
       "      <th>80</th>\n",
       "      <td>Jul 13, 2005</td>\n",
       "      <td>Return to the Land of Wonders</td>\n",
       "      <td>$5,000</td>\n",
       "      <td>$1,338</td>\n",
       "      <td>$1,338</td>\n",
       "    </tr>\n",
       "    <tr>\n",
       "      <th>81</th>\n",
       "      <td>Sep 29, 2015</td>\n",
       "      <td>A Plague So Pleasant</td>\n",
       "      <td>$1,400</td>\n",
       "      <td>$0</td>\n",
       "      <td>$0</td>\n",
       "    </tr>\n",
       "    <tr>\n",
       "      <th>82</th>\n",
       "      <td>Aug 5, 2005</td>\n",
       "      <td>My Date With Drew</td>\n",
       "      <td>$1,100</td>\n",
       "      <td>$181,041</td>\n",
       "      <td>$181,041</td>\n",
       "    </tr>\n",
       "  </tbody>\n",
       "</table>\n",
       "<p>5782 rows × 5 columns</p>\n",
       "</div>"
      ],
      "text/plain": [
       "    release_date                                        movie  \\\n",
       "id                                                              \n",
       "1   Dec 18, 2009                                       Avatar   \n",
       "2   May 20, 2011  Pirates of the Caribbean: On Stranger Tides   \n",
       "3    Jun 7, 2019                                 Dark Phoenix   \n",
       "4    May 1, 2015                      Avengers: Age of Ultron   \n",
       "5   Dec 15, 2017            Star Wars Ep. VIII: The Last Jedi   \n",
       "..           ...                                          ...   \n",
       "78  Dec 31, 2018                                       Red 11   \n",
       "79   Apr 2, 1999                                    Following   \n",
       "80  Jul 13, 2005                Return to the Land of Wonders   \n",
       "81  Sep 29, 2015                         A Plague So Pleasant   \n",
       "82   Aug 5, 2005                            My Date With Drew   \n",
       "\n",
       "   production_budget domestic_gross worldwide_gross  \n",
       "id                                                   \n",
       "1       $425,000,000   $760,507,625  $2,776,345,279  \n",
       "2       $410,600,000   $241,063,875  $1,045,663,875  \n",
       "3       $350,000,000    $42,762,350    $149,762,350  \n",
       "4       $330,600,000   $459,005,868  $1,403,013,963  \n",
       "5       $317,000,000   $620,181,382  $1,316,721,747  \n",
       "..               ...            ...             ...  \n",
       "78            $7,000             $0              $0  \n",
       "79            $6,000        $48,482        $240,495  \n",
       "80            $5,000         $1,338          $1,338  \n",
       "81            $1,400             $0              $0  \n",
       "82            $1,100       $181,041        $181,041  \n",
       "\n",
       "[5782 rows x 5 columns]"
      ]
     },
     "execution_count": 8,
     "metadata": {},
     "output_type": "execute_result"
    }
   ],
   "source": [
    "tn_movies"
   ]
  },
  {
   "cell_type": "markdown",
   "metadata": {},
   "source": [
    "## Cleaning Movie Budget data"
   ]
  },
  {
   "cell_type": "markdown",
   "metadata": {},
   "source": [
    "Data cleaning for the movie budget movies dataset. The cleaning will include checking for missing values and duplicate values. Depending on the number of values missing we might drop either the rows containing the missing values or group the entire column if the missing values are too many. For the duplicates we will keep the first row and drop the rest of the duplicates. since the data has no missing values we are working with duplicates."
   ]
  },
  {
   "cell_type": "code",
   "execution_count": 9,
   "metadata": {},
   "outputs": [
    {
     "data": {
      "text/plain": [
       "release_date         0\n",
       "movie                0\n",
       "production_budget    0\n",
       "domestic_gross       0\n",
       "worldwide_gross      0\n",
       "dtype: int64"
      ]
     },
     "execution_count": 9,
     "metadata": {},
     "output_type": "execute_result"
    }
   ],
   "source": [
    "# looking for missing data\n",
    "tn_movies .isna().sum()"
   ]
  },
  {
   "cell_type": "code",
   "execution_count": 10,
   "metadata": {},
   "outputs": [
    {
     "data": {
      "text/plain": [
       "0"
      ]
     },
     "execution_count": 10,
     "metadata": {},
     "output_type": "execute_result"
    }
   ],
   "source": [
    "# looking for duplicates\n",
    "tn_movies .duplicated().sum()"
   ]
  },
  {
   "cell_type": "code",
   "execution_count": 11,
   "metadata": {},
   "outputs": [
    {
     "name": "stdout",
     "output_type": "stream",
     "text": [
      "<class 'pandas.core.frame.DataFrame'>\n",
      "Int64Index: 5782 entries, 1 to 82\n",
      "Data columns (total 5 columns):\n",
      " #   Column             Non-Null Count  Dtype \n",
      "---  ------             --------------  ----- \n",
      " 0   release_date       5782 non-null   object\n",
      " 1   movie              5782 non-null   object\n",
      " 2   production_budget  5782 non-null   object\n",
      " 3   domestic_gross     5782 non-null   object\n",
      " 4   worldwide_gross    5782 non-null   object\n",
      "dtypes: object(5)\n",
      "memory usage: 271.0+ KB\n"
     ]
    }
   ],
   "source": [
    "tn_movies.info()"
   ]
  },
  {
   "cell_type": "code",
   "execution_count": 12,
   "metadata": {},
   "outputs": [
    {
     "name": "stderr",
     "output_type": "stream",
     "text": [
      "C:\\Users\\NYOKS\\AppData\\Local\\Temp\\ipykernel_11588\\476922719.py:2: FutureWarning: The default value of regex will change from True to False in a future version. In addition, single character regular expressions will *not* be treated as literal strings when regex=True.\n",
      "  tn_movies ['production_budget'] = tn_movies ['production_budget'].str.replace('$', \"\").str.replace(',',\"\").astype(float)\n",
      "C:\\Users\\NYOKS\\AppData\\Local\\Temp\\ipykernel_11588\\476922719.py:3: FutureWarning: The default value of regex will change from True to False in a future version. In addition, single character regular expressions will *not* be treated as literal strings when regex=True.\n",
      "  tn_movies['domestic_gross']= tn_movies['domestic_gross'].str.replace('$', \"\").str.replace(',',\"\").astype(float)\n",
      "C:\\Users\\NYOKS\\AppData\\Local\\Temp\\ipykernel_11588\\476922719.py:4: FutureWarning: The default value of regex will change from True to False in a future version. In addition, single character regular expressions will *not* be treated as literal strings when regex=True.\n",
      "  tn_movies['worldwide_gross']= tn_movies['worldwide_gross'].str.replace('$', \"\").str.replace(',',\"\").astype(float)\n"
     ]
    },
    {
     "data": {
      "text/html": [
       "<div>\n",
       "<style scoped>\n",
       "    .dataframe tbody tr th:only-of-type {\n",
       "        vertical-align: middle;\n",
       "    }\n",
       "\n",
       "    .dataframe tbody tr th {\n",
       "        vertical-align: top;\n",
       "    }\n",
       "\n",
       "    .dataframe thead th {\n",
       "        text-align: right;\n",
       "    }\n",
       "</style>\n",
       "<table border=\"1\" class=\"dataframe\">\n",
       "  <thead>\n",
       "    <tr style=\"text-align: right;\">\n",
       "      <th></th>\n",
       "      <th>release_date</th>\n",
       "      <th>movie</th>\n",
       "      <th>production_budget</th>\n",
       "      <th>domestic_gross</th>\n",
       "      <th>worldwide_gross</th>\n",
       "    </tr>\n",
       "    <tr>\n",
       "      <th>id</th>\n",
       "      <th></th>\n",
       "      <th></th>\n",
       "      <th></th>\n",
       "      <th></th>\n",
       "      <th></th>\n",
       "    </tr>\n",
       "  </thead>\n",
       "  <tbody>\n",
       "    <tr>\n",
       "      <th>1</th>\n",
       "      <td>Dec 18, 2009</td>\n",
       "      <td>Avatar</td>\n",
       "      <td>425000000.0</td>\n",
       "      <td>760507625.0</td>\n",
       "      <td>2.776345e+09</td>\n",
       "    </tr>\n",
       "    <tr>\n",
       "      <th>2</th>\n",
       "      <td>May 20, 2011</td>\n",
       "      <td>Pirates of the Caribbean: On Stranger Tides</td>\n",
       "      <td>410600000.0</td>\n",
       "      <td>241063875.0</td>\n",
       "      <td>1.045664e+09</td>\n",
       "    </tr>\n",
       "    <tr>\n",
       "      <th>3</th>\n",
       "      <td>Jun 7, 2019</td>\n",
       "      <td>Dark Phoenix</td>\n",
       "      <td>350000000.0</td>\n",
       "      <td>42762350.0</td>\n",
       "      <td>1.497624e+08</td>\n",
       "    </tr>\n",
       "    <tr>\n",
       "      <th>4</th>\n",
       "      <td>May 1, 2015</td>\n",
       "      <td>Avengers: Age of Ultron</td>\n",
       "      <td>330600000.0</td>\n",
       "      <td>459005868.0</td>\n",
       "      <td>1.403014e+09</td>\n",
       "    </tr>\n",
       "    <tr>\n",
       "      <th>5</th>\n",
       "      <td>Dec 15, 2017</td>\n",
       "      <td>Star Wars Ep. VIII: The Last Jedi</td>\n",
       "      <td>317000000.0</td>\n",
       "      <td>620181382.0</td>\n",
       "      <td>1.316722e+09</td>\n",
       "    </tr>\n",
       "  </tbody>\n",
       "</table>\n",
       "</div>"
      ],
      "text/plain": [
       "    release_date                                        movie  \\\n",
       "id                                                              \n",
       "1   Dec 18, 2009                                       Avatar   \n",
       "2   May 20, 2011  Pirates of the Caribbean: On Stranger Tides   \n",
       "3    Jun 7, 2019                                 Dark Phoenix   \n",
       "4    May 1, 2015                      Avengers: Age of Ultron   \n",
       "5   Dec 15, 2017            Star Wars Ep. VIII: The Last Jedi   \n",
       "\n",
       "    production_budget  domestic_gross  worldwide_gross  \n",
       "id                                                      \n",
       "1         425000000.0     760507625.0     2.776345e+09  \n",
       "2         410600000.0     241063875.0     1.045664e+09  \n",
       "3         350000000.0      42762350.0     1.497624e+08  \n",
       "4         330600000.0     459005868.0     1.403014e+09  \n",
       "5         317000000.0     620181382.0     1.316722e+09  "
      ]
     },
     "execution_count": 12,
     "metadata": {},
     "output_type": "execute_result"
    }
   ],
   "source": [
    "# dropping dollar signs and commas\n",
    "tn_movies ['production_budget'] = tn_movies ['production_budget'].str.replace('$', \"\").str.replace(',',\"\").astype(float)\n",
    "tn_movies['domestic_gross']= tn_movies['domestic_gross'].str.replace('$', \"\").str.replace(',',\"\").astype(float)\n",
    "tn_movies['worldwide_gross']= tn_movies['worldwide_gross'].str.replace('$', \"\").str.replace(',',\"\").astype(float)\n",
    "tn_movies .head()"
   ]
  },
  {
   "cell_type": "code",
   "execution_count": 13,
   "metadata": {},
   "outputs": [],
   "source": [
    "#dropping column\n",
    "tn_movies.drop([\"release_date\"], axis = 1 , inplace = True)"
   ]
  },
  {
   "cell_type": "code",
   "execution_count": 14,
   "metadata": {},
   "outputs": [],
   "source": [
    "# creating return investment column\n",
    "tn_movies [\"return_investment\"]= ((tn_movies['domestic_gross'] + tn_movies['worldwide_gross'] - tn_movies['production_budget']) / tn_movies['production_budget']).round(2)"
   ]
  },
  {
   "cell_type": "code",
   "execution_count": 15,
   "metadata": {},
   "outputs": [
    {
     "data": {
      "text/html": [
       "<div>\n",
       "<style scoped>\n",
       "    .dataframe tbody tr th:only-of-type {\n",
       "        vertical-align: middle;\n",
       "    }\n",
       "\n",
       "    .dataframe tbody tr th {\n",
       "        vertical-align: top;\n",
       "    }\n",
       "\n",
       "    .dataframe thead th {\n",
       "        text-align: right;\n",
       "    }\n",
       "</style>\n",
       "<table border=\"1\" class=\"dataframe\">\n",
       "  <thead>\n",
       "    <tr style=\"text-align: right;\">\n",
       "      <th></th>\n",
       "      <th>movie</th>\n",
       "      <th>production_budget</th>\n",
       "      <th>domestic_gross</th>\n",
       "      <th>worldwide_gross</th>\n",
       "      <th>return_investment</th>\n",
       "    </tr>\n",
       "    <tr>\n",
       "      <th>id</th>\n",
       "      <th></th>\n",
       "      <th></th>\n",
       "      <th></th>\n",
       "      <th></th>\n",
       "      <th></th>\n",
       "    </tr>\n",
       "  </thead>\n",
       "  <tbody>\n",
       "    <tr>\n",
       "      <th>93</th>\n",
       "      <td>Paranormal Activity</td>\n",
       "      <td>450000.0</td>\n",
       "      <td>107918810.0</td>\n",
       "      <td>194183034.0</td>\n",
       "      <td>670.34</td>\n",
       "    </tr>\n",
       "    <tr>\n",
       "      <th>7</th>\n",
       "      <td>The Blair Witch Project</td>\n",
       "      <td>600000.0</td>\n",
       "      <td>140539099.0</td>\n",
       "      <td>248300000.0</td>\n",
       "      <td>647.07</td>\n",
       "    </tr>\n",
       "    <tr>\n",
       "      <th>80</th>\n",
       "      <td>The Gallows</td>\n",
       "      <td>100000.0</td>\n",
       "      <td>22764410.0</td>\n",
       "      <td>41656474.0</td>\n",
       "      <td>643.21</td>\n",
       "    </tr>\n",
       "    <tr>\n",
       "      <th>74</th>\n",
       "      <td>El Mariachi</td>\n",
       "      <td>7000.0</td>\n",
       "      <td>2040920.0</td>\n",
       "      <td>2041928.0</td>\n",
       "      <td>582.26</td>\n",
       "    </tr>\n",
       "    <tr>\n",
       "      <th>14</th>\n",
       "      <td>Mad Max</td>\n",
       "      <td>200000.0</td>\n",
       "      <td>8750000.0</td>\n",
       "      <td>99750000.0</td>\n",
       "      <td>541.50</td>\n",
       "    </tr>\n",
       "    <tr>\n",
       "      <th>10</th>\n",
       "      <td>Super Size Me</td>\n",
       "      <td>65000.0</td>\n",
       "      <td>11529368.0</td>\n",
       "      <td>22233808.0</td>\n",
       "      <td>518.43</td>\n",
       "    </tr>\n",
       "    <tr>\n",
       "      <th>47</th>\n",
       "      <td>Bambi</td>\n",
       "      <td>858000.0</td>\n",
       "      <td>102797000.0</td>\n",
       "      <td>268000000.0</td>\n",
       "      <td>431.16</td>\n",
       "    </tr>\n",
       "    <tr>\n",
       "      <th>16</th>\n",
       "      <td>The Brothers McMullen</td>\n",
       "      <td>50000.0</td>\n",
       "      <td>10426506.0</td>\n",
       "      <td>10426506.0</td>\n",
       "      <td>416.06</td>\n",
       "    </tr>\n",
       "    <tr>\n",
       "      <th>66</th>\n",
       "      <td>The Texas Chainsaw Massacre</td>\n",
       "      <td>140000.0</td>\n",
       "      <td>26572439.0</td>\n",
       "      <td>26572439.0</td>\n",
       "      <td>378.61</td>\n",
       "    </tr>\n",
       "    <tr>\n",
       "      <th>77</th>\n",
       "      <td>Night of the Living Dead</td>\n",
       "      <td>114000.0</td>\n",
       "      <td>12087064.0</td>\n",
       "      <td>30087064.0</td>\n",
       "      <td>368.95</td>\n",
       "    </tr>\n",
       "    <tr>\n",
       "      <th>37</th>\n",
       "      <td>Halloween</td>\n",
       "      <td>325000.0</td>\n",
       "      <td>47000000.0</td>\n",
       "      <td>70000000.0</td>\n",
       "      <td>359.00</td>\n",
       "    </tr>\n",
       "    <tr>\n",
       "      <th>11</th>\n",
       "      <td>Rocky</td>\n",
       "      <td>1000000.0</td>\n",
       "      <td>117235147.0</td>\n",
       "      <td>225000000.0</td>\n",
       "      <td>341.24</td>\n",
       "    </tr>\n",
       "    <tr>\n",
       "      <th>82</th>\n",
       "      <td>My Date With Drew</td>\n",
       "      <td>1100.0</td>\n",
       "      <td>181041.0</td>\n",
       "      <td>181041.0</td>\n",
       "      <td>328.17</td>\n",
       "    </tr>\n",
       "    <tr>\n",
       "      <th>73</th>\n",
       "      <td>American Graffiti</td>\n",
       "      <td>777000.0</td>\n",
       "      <td>115000000.0</td>\n",
       "      <td>140000000.0</td>\n",
       "      <td>327.19</td>\n",
       "    </tr>\n",
       "    <tr>\n",
       "      <th>43</th>\n",
       "      <td>Clerks</td>\n",
       "      <td>27000.0</td>\n",
       "      <td>3073428.0</td>\n",
       "      <td>3894240.0</td>\n",
       "      <td>257.06</td>\n",
       "    </tr>\n",
       "    <tr>\n",
       "      <th>18</th>\n",
       "      <td>Snow White and the Seven Dwarfs</td>\n",
       "      <td>1488000.0</td>\n",
       "      <td>184925486.0</td>\n",
       "      <td>184925486.0</td>\n",
       "      <td>247.56</td>\n",
       "    </tr>\n",
       "    <tr>\n",
       "      <th>58</th>\n",
       "      <td>Billy Jack</td>\n",
       "      <td>800000.0</td>\n",
       "      <td>98000000.0</td>\n",
       "      <td>98000000.0</td>\n",
       "      <td>244.00</td>\n",
       "    </tr>\n",
       "    <tr>\n",
       "      <th>47</th>\n",
       "      <td>In the Company of Men</td>\n",
       "      <td>25000.0</td>\n",
       "      <td>2883661.0</td>\n",
       "      <td>2883661.0</td>\n",
       "      <td>229.69</td>\n",
       "    </tr>\n",
       "    <tr>\n",
       "      <th>8</th>\n",
       "      <td>Napoleon Dynamite</td>\n",
       "      <td>400000.0</td>\n",
       "      <td>44540956.0</td>\n",
       "      <td>46122713.0</td>\n",
       "      <td>225.66</td>\n",
       "    </tr>\n",
       "  </tbody>\n",
       "</table>\n",
       "</div>"
      ],
      "text/plain": [
       "                              movie  production_budget  domestic_gross  \\\n",
       "id                                                                       \n",
       "93              Paranormal Activity           450000.0     107918810.0   \n",
       "7           The Blair Witch Project           600000.0     140539099.0   \n",
       "80                      The Gallows           100000.0      22764410.0   \n",
       "74                      El Mariachi             7000.0       2040920.0   \n",
       "14                          Mad Max           200000.0       8750000.0   \n",
       "10                    Super Size Me            65000.0      11529368.0   \n",
       "47                            Bambi           858000.0     102797000.0   \n",
       "16            The Brothers McMullen            50000.0      10426506.0   \n",
       "66      The Texas Chainsaw Massacre           140000.0      26572439.0   \n",
       "77         Night of the Living Dead           114000.0      12087064.0   \n",
       "37                        Halloween           325000.0      47000000.0   \n",
       "11                            Rocky          1000000.0     117235147.0   \n",
       "82                My Date With Drew             1100.0        181041.0   \n",
       "73                American Graffiti           777000.0     115000000.0   \n",
       "43                           Clerks            27000.0       3073428.0   \n",
       "18  Snow White and the Seven Dwarfs          1488000.0     184925486.0   \n",
       "58                       Billy Jack           800000.0      98000000.0   \n",
       "47            In the Company of Men            25000.0       2883661.0   \n",
       "8                 Napoleon Dynamite           400000.0      44540956.0   \n",
       "\n",
       "    worldwide_gross  return_investment  \n",
       "id                                      \n",
       "93      194183034.0             670.34  \n",
       "7       248300000.0             647.07  \n",
       "80       41656474.0             643.21  \n",
       "74        2041928.0             582.26  \n",
       "14       99750000.0             541.50  \n",
       "10       22233808.0             518.43  \n",
       "47      268000000.0             431.16  \n",
       "16       10426506.0             416.06  \n",
       "66       26572439.0             378.61  \n",
       "77       30087064.0             368.95  \n",
       "37       70000000.0             359.00  \n",
       "11      225000000.0             341.24  \n",
       "82         181041.0             328.17  \n",
       "73      140000000.0             327.19  \n",
       "43        3894240.0             257.06  \n",
       "18      184925486.0             247.56  \n",
       "58       98000000.0             244.00  \n",
       "47        2883661.0             229.69  \n",
       "8        46122713.0             225.66  "
      ]
     },
     "execution_count": 15,
     "metadata": {},
     "output_type": "execute_result"
    }
   ],
   "source": [
    "# sorting data and removing outliers\n",
    "tn_movies_sorted = tn_movies.sort_values(by = 'return_investment', ascending= False).head(20).iloc[1:20]\n",
    "tn_movies_sorted"
   ]
  },
  {
   "cell_type": "markdown",
   "metadata": {},
   "source": [
    "# Bom Movie Gross Data"
   ]
  },
  {
   "cell_type": "markdown",
   "metadata": {},
   "source": [
    "Data cleaning for our movies dataset bom movie gross. The cleaning will include checking for missing values and duplicate values. Depending on the number of values missing we might drop either the rows containing the missing values or group the entire column if the missing values are too many. For the duplicates we will keep the first row and drop the rest of the duplicates. The data has no duplicates but has missing values so we will work on grouping the missing columns or rows."
   ]
  },
  {
   "cell_type": "code",
   "execution_count": 16,
   "metadata": {},
   "outputs": [],
   "source": [
    "#importing bom gross data\n",
    "bom_movies = pd.read_csv(\"bom.movie_gross.csv\")"
   ]
  },
  {
   "cell_type": "code",
   "execution_count": 17,
   "metadata": {},
   "outputs": [
    {
     "data": {
      "text/html": [
       "<div>\n",
       "<style scoped>\n",
       "    .dataframe tbody tr th:only-of-type {\n",
       "        vertical-align: middle;\n",
       "    }\n",
       "\n",
       "    .dataframe tbody tr th {\n",
       "        vertical-align: top;\n",
       "    }\n",
       "\n",
       "    .dataframe thead th {\n",
       "        text-align: right;\n",
       "    }\n",
       "</style>\n",
       "<table border=\"1\" class=\"dataframe\">\n",
       "  <thead>\n",
       "    <tr style=\"text-align: right;\">\n",
       "      <th></th>\n",
       "      <th>title</th>\n",
       "      <th>studio</th>\n",
       "      <th>domestic_gross</th>\n",
       "      <th>foreign_gross</th>\n",
       "      <th>year</th>\n",
       "    </tr>\n",
       "  </thead>\n",
       "  <tbody>\n",
       "    <tr>\n",
       "      <th>0</th>\n",
       "      <td>Toy Story 3</td>\n",
       "      <td>BV</td>\n",
       "      <td>415000000.0</td>\n",
       "      <td>652000000</td>\n",
       "      <td>2010</td>\n",
       "    </tr>\n",
       "    <tr>\n",
       "      <th>1</th>\n",
       "      <td>Alice in Wonderland (2010)</td>\n",
       "      <td>BV</td>\n",
       "      <td>334200000.0</td>\n",
       "      <td>691300000</td>\n",
       "      <td>2010</td>\n",
       "    </tr>\n",
       "    <tr>\n",
       "      <th>2</th>\n",
       "      <td>Harry Potter and the Deathly Hallows Part 1</td>\n",
       "      <td>WB</td>\n",
       "      <td>296000000.0</td>\n",
       "      <td>664300000</td>\n",
       "      <td>2010</td>\n",
       "    </tr>\n",
       "    <tr>\n",
       "      <th>3</th>\n",
       "      <td>Inception</td>\n",
       "      <td>WB</td>\n",
       "      <td>292600000.0</td>\n",
       "      <td>535700000</td>\n",
       "      <td>2010</td>\n",
       "    </tr>\n",
       "    <tr>\n",
       "      <th>4</th>\n",
       "      <td>Shrek Forever After</td>\n",
       "      <td>P/DW</td>\n",
       "      <td>238700000.0</td>\n",
       "      <td>513900000</td>\n",
       "      <td>2010</td>\n",
       "    </tr>\n",
       "  </tbody>\n",
       "</table>\n",
       "</div>"
      ],
      "text/plain": [
       "                                         title studio  domestic_gross  \\\n",
       "0                                  Toy Story 3     BV     415000000.0   \n",
       "1                   Alice in Wonderland (2010)     BV     334200000.0   \n",
       "2  Harry Potter and the Deathly Hallows Part 1     WB     296000000.0   \n",
       "3                                    Inception     WB     292600000.0   \n",
       "4                          Shrek Forever After   P/DW     238700000.0   \n",
       "\n",
       "  foreign_gross  year  \n",
       "0     652000000  2010  \n",
       "1     691300000  2010  \n",
       "2     664300000  2010  \n",
       "3     535700000  2010  \n",
       "4     513900000  2010  "
      ]
     },
     "execution_count": 17,
     "metadata": {},
     "output_type": "execute_result"
    }
   ],
   "source": [
    "bom_movies.head()"
   ]
  },
  {
   "cell_type": "code",
   "execution_count": 18,
   "metadata": {},
   "outputs": [
    {
     "name": "stdout",
     "output_type": "stream",
     "text": [
      "<class 'pandas.core.frame.DataFrame'>\n",
      "RangeIndex: 3387 entries, 0 to 3386\n",
      "Data columns (total 5 columns):\n",
      " #   Column          Non-Null Count  Dtype  \n",
      "---  ------          --------------  -----  \n",
      " 0   title           3387 non-null   object \n",
      " 1   studio          3382 non-null   object \n",
      " 2   domestic_gross  3359 non-null   float64\n",
      " 3   foreign_gross   2037 non-null   object \n",
      " 4   year            3387 non-null   int64  \n",
      "dtypes: float64(1), int64(1), object(3)\n",
      "memory usage: 132.4+ KB\n"
     ]
    }
   ],
   "source": [
    "bom_movies.info()"
   ]
  },
  {
   "cell_type": "markdown",
   "metadata": {},
   "source": [
    "## Data Cleaning For Bom Movies"
   ]
  },
  {
   "cell_type": "code",
   "execution_count": 19,
   "metadata": {},
   "outputs": [
    {
     "data": {
      "text/plain": [
       "title                0\n",
       "studio               5\n",
       "domestic_gross      28\n",
       "foreign_gross     1350\n",
       "year                 0\n",
       "dtype: int64"
      ]
     },
     "execution_count": 19,
     "metadata": {},
     "output_type": "execute_result"
    }
   ],
   "source": [
    "#looking for missing values\n",
    "bom_movies.isna().sum()"
   ]
  },
  {
   "cell_type": "code",
   "execution_count": 20,
   "metadata": {},
   "outputs": [
    {
     "data": {
      "text/plain": [
       "title             0.000000\n",
       "studio            0.001476\n",
       "domestic_gross    0.008267\n",
       "foreign_gross     0.398583\n",
       "year              0.000000\n",
       "dtype: float64"
      ]
     },
     "execution_count": 20,
     "metadata": {},
     "output_type": "execute_result"
    }
   ],
   "source": [
    "bom_movies.isna().sum()/len(bom_movies)"
   ]
  },
  {
   "cell_type": "code",
   "execution_count": 21,
   "metadata": {},
   "outputs": [
    {
     "data": {
      "text/plain": [
       "0"
      ]
     },
     "execution_count": 21,
     "metadata": {},
     "output_type": "execute_result"
    }
   ],
   "source": [
    "#looking for duplicates\n",
    "bom_movies.duplicated().sum()"
   ]
  },
  {
   "cell_type": "code",
   "execution_count": 22,
   "metadata": {},
   "outputs": [],
   "source": [
    "# dropping foreign gross column\n",
    "bom_movies.drop([\"foreign_gross\"], axis =1 , inplace = True)"
   ]
  },
  {
   "cell_type": "code",
   "execution_count": 23,
   "metadata": {},
   "outputs": [
    {
     "data": {
      "text/html": [
       "<div>\n",
       "<style scoped>\n",
       "    .dataframe tbody tr th:only-of-type {\n",
       "        vertical-align: middle;\n",
       "    }\n",
       "\n",
       "    .dataframe tbody tr th {\n",
       "        vertical-align: top;\n",
       "    }\n",
       "\n",
       "    .dataframe thead th {\n",
       "        text-align: right;\n",
       "    }\n",
       "</style>\n",
       "<table border=\"1\" class=\"dataframe\">\n",
       "  <thead>\n",
       "    <tr style=\"text-align: right;\">\n",
       "      <th></th>\n",
       "      <th>title</th>\n",
       "      <th>studio</th>\n",
       "      <th>domestic_gross</th>\n",
       "      <th>year</th>\n",
       "    </tr>\n",
       "  </thead>\n",
       "  <tbody>\n",
       "    <tr>\n",
       "      <th>0</th>\n",
       "      <td>Toy Story 3</td>\n",
       "      <td>BV</td>\n",
       "      <td>415000000.0</td>\n",
       "      <td>2010</td>\n",
       "    </tr>\n",
       "    <tr>\n",
       "      <th>1</th>\n",
       "      <td>Alice in Wonderland (2010)</td>\n",
       "      <td>BV</td>\n",
       "      <td>334200000.0</td>\n",
       "      <td>2010</td>\n",
       "    </tr>\n",
       "    <tr>\n",
       "      <th>2</th>\n",
       "      <td>Harry Potter and the Deathly Hallows Part 1</td>\n",
       "      <td>WB</td>\n",
       "      <td>296000000.0</td>\n",
       "      <td>2010</td>\n",
       "    </tr>\n",
       "    <tr>\n",
       "      <th>3</th>\n",
       "      <td>Inception</td>\n",
       "      <td>WB</td>\n",
       "      <td>292600000.0</td>\n",
       "      <td>2010</td>\n",
       "    </tr>\n",
       "    <tr>\n",
       "      <th>4</th>\n",
       "      <td>Shrek Forever After</td>\n",
       "      <td>P/DW</td>\n",
       "      <td>238700000.0</td>\n",
       "      <td>2010</td>\n",
       "    </tr>\n",
       "    <tr>\n",
       "      <th>...</th>\n",
       "      <td>...</td>\n",
       "      <td>...</td>\n",
       "      <td>...</td>\n",
       "      <td>...</td>\n",
       "    </tr>\n",
       "    <tr>\n",
       "      <th>3382</th>\n",
       "      <td>The Quake</td>\n",
       "      <td>Magn.</td>\n",
       "      <td>6200.0</td>\n",
       "      <td>2018</td>\n",
       "    </tr>\n",
       "    <tr>\n",
       "      <th>3383</th>\n",
       "      <td>Edward II (2018 re-release)</td>\n",
       "      <td>FM</td>\n",
       "      <td>4800.0</td>\n",
       "      <td>2018</td>\n",
       "    </tr>\n",
       "    <tr>\n",
       "      <th>3384</th>\n",
       "      <td>El Pacto</td>\n",
       "      <td>Sony</td>\n",
       "      <td>2500.0</td>\n",
       "      <td>2018</td>\n",
       "    </tr>\n",
       "    <tr>\n",
       "      <th>3385</th>\n",
       "      <td>The Swan</td>\n",
       "      <td>Synergetic</td>\n",
       "      <td>2400.0</td>\n",
       "      <td>2018</td>\n",
       "    </tr>\n",
       "    <tr>\n",
       "      <th>3386</th>\n",
       "      <td>An Actor Prepares</td>\n",
       "      <td>Grav.</td>\n",
       "      <td>1700.0</td>\n",
       "      <td>2018</td>\n",
       "    </tr>\n",
       "  </tbody>\n",
       "</table>\n",
       "<p>3387 rows × 4 columns</p>\n",
       "</div>"
      ],
      "text/plain": [
       "                                            title      studio  domestic_gross  \\\n",
       "0                                     Toy Story 3          BV     415000000.0   \n",
       "1                      Alice in Wonderland (2010)          BV     334200000.0   \n",
       "2     Harry Potter and the Deathly Hallows Part 1          WB     296000000.0   \n",
       "3                                       Inception          WB     292600000.0   \n",
       "4                             Shrek Forever After        P/DW     238700000.0   \n",
       "...                                           ...         ...             ...   \n",
       "3382                                    The Quake       Magn.          6200.0   \n",
       "3383                  Edward II (2018 re-release)          FM          4800.0   \n",
       "3384                                     El Pacto        Sony          2500.0   \n",
       "3385                                     The Swan  Synergetic          2400.0   \n",
       "3386                            An Actor Prepares       Grav.          1700.0   \n",
       "\n",
       "      year  \n",
       "0     2010  \n",
       "1     2010  \n",
       "2     2010  \n",
       "3     2010  \n",
       "4     2010  \n",
       "...    ...  \n",
       "3382  2018  \n",
       "3383  2018  \n",
       "3384  2018  \n",
       "3385  2018  \n",
       "3386  2018  \n",
       "\n",
       "[3387 rows x 4 columns]"
      ]
     },
     "execution_count": 23,
     "metadata": {},
     "output_type": "execute_result"
    }
   ],
   "source": [
    "bom_movies"
   ]
  },
  {
   "cell_type": "code",
   "execution_count": 24,
   "metadata": {},
   "outputs": [],
   "source": [
    "# dropping rows with missing studio values\n",
    "bom_movies.dropna(subset =[\"studio\"], axis = 0 , inplace = True)"
   ]
  },
  {
   "cell_type": "code",
   "execution_count": 25,
   "metadata": {},
   "outputs": [
    {
     "data": {
      "text/plain": [
       "title              0\n",
       "studio             0\n",
       "domestic_gross    26\n",
       "year               0\n",
       "dtype: int64"
      ]
     },
     "execution_count": 25,
     "metadata": {},
     "output_type": "execute_result"
    }
   ],
   "source": [
    "# looking for missing values\n",
    "bom_movies.isna().sum()"
   ]
  },
  {
   "cell_type": "code",
   "execution_count": 26,
   "metadata": {},
   "outputs": [],
   "source": [
    "# dropping rows with missing domestic gross values\n",
    "bom_movies.dropna(subset =[\"domestic_gross\"], axis = 0 , inplace = True)"
   ]
  },
  {
   "cell_type": "code",
   "execution_count": 27,
   "metadata": {},
   "outputs": [
    {
     "data": {
      "text/plain": [
       "title             0\n",
       "studio            0\n",
       "domestic_gross    0\n",
       "year              0\n",
       "dtype: int64"
      ]
     },
     "execution_count": 27,
     "metadata": {},
     "output_type": "execute_result"
    }
   ],
   "source": [
    "bom_movies.isna().sum()"
   ]
  },
  {
   "cell_type": "code",
   "execution_count": 28,
   "metadata": {},
   "outputs": [],
   "source": [
    "# changing year to date format\n",
    "bom_movies[\"year\"] = pd.to_datetime(bom_movies[\"year\"])"
   ]
  },
  {
   "cell_type": "code",
   "execution_count": 29,
   "metadata": {},
   "outputs": [
    {
     "name": "stdout",
     "output_type": "stream",
     "text": [
      "<class 'pandas.core.frame.DataFrame'>\n",
      "Int64Index: 3356 entries, 0 to 3386\n",
      "Data columns (total 4 columns):\n",
      " #   Column          Non-Null Count  Dtype         \n",
      "---  ------          --------------  -----         \n",
      " 0   title           3356 non-null   object        \n",
      " 1   studio          3356 non-null   object        \n",
      " 2   domestic_gross  3356 non-null   float64       \n",
      " 3   year            3356 non-null   datetime64[ns]\n",
      "dtypes: datetime64[ns](1), float64(1), object(2)\n",
      "memory usage: 131.1+ KB\n"
     ]
    }
   ],
   "source": [
    "bom_movies.info()"
   ]
  },
  {
   "cell_type": "markdown",
   "metadata": {},
   "source": [
    "#  IMDB Data"
   ]
  },
  {
   "cell_type": "code",
   "execution_count": 30,
   "metadata": {},
   "outputs": [],
   "source": [
    "#defining conn\n",
    "conn = sqlite3.connect('im.db')"
   ]
  },
  {
   "cell_type": "code",
   "execution_count": 31,
   "metadata": {},
   "outputs": [],
   "source": [
    "imdb_data1 = pd.read_sql(\"\"\" select * from movie_ratings\"\"\" , conn)"
   ]
  },
  {
   "cell_type": "code",
   "execution_count": 32,
   "metadata": {},
   "outputs": [
    {
     "data": {
      "text/html": [
       "<div>\n",
       "<style scoped>\n",
       "    .dataframe tbody tr th:only-of-type {\n",
       "        vertical-align: middle;\n",
       "    }\n",
       "\n",
       "    .dataframe tbody tr th {\n",
       "        vertical-align: top;\n",
       "    }\n",
       "\n",
       "    .dataframe thead th {\n",
       "        text-align: right;\n",
       "    }\n",
       "</style>\n",
       "<table border=\"1\" class=\"dataframe\">\n",
       "  <thead>\n",
       "    <tr style=\"text-align: right;\">\n",
       "      <th></th>\n",
       "      <th>movie_id</th>\n",
       "      <th>averagerating</th>\n",
       "      <th>numvotes</th>\n",
       "    </tr>\n",
       "  </thead>\n",
       "  <tbody>\n",
       "    <tr>\n",
       "      <th>0</th>\n",
       "      <td>tt10356526</td>\n",
       "      <td>8.3</td>\n",
       "      <td>31</td>\n",
       "    </tr>\n",
       "    <tr>\n",
       "      <th>1</th>\n",
       "      <td>tt10384606</td>\n",
       "      <td>8.9</td>\n",
       "      <td>559</td>\n",
       "    </tr>\n",
       "    <tr>\n",
       "      <th>2</th>\n",
       "      <td>tt1042974</td>\n",
       "      <td>6.4</td>\n",
       "      <td>20</td>\n",
       "    </tr>\n",
       "    <tr>\n",
       "      <th>3</th>\n",
       "      <td>tt1043726</td>\n",
       "      <td>4.2</td>\n",
       "      <td>50352</td>\n",
       "    </tr>\n",
       "    <tr>\n",
       "      <th>4</th>\n",
       "      <td>tt1060240</td>\n",
       "      <td>6.5</td>\n",
       "      <td>21</td>\n",
       "    </tr>\n",
       "    <tr>\n",
       "      <th>...</th>\n",
       "      <td>...</td>\n",
       "      <td>...</td>\n",
       "      <td>...</td>\n",
       "    </tr>\n",
       "    <tr>\n",
       "      <th>73851</th>\n",
       "      <td>tt9805820</td>\n",
       "      <td>8.1</td>\n",
       "      <td>25</td>\n",
       "    </tr>\n",
       "    <tr>\n",
       "      <th>73852</th>\n",
       "      <td>tt9844256</td>\n",
       "      <td>7.5</td>\n",
       "      <td>24</td>\n",
       "    </tr>\n",
       "    <tr>\n",
       "      <th>73853</th>\n",
       "      <td>tt9851050</td>\n",
       "      <td>4.7</td>\n",
       "      <td>14</td>\n",
       "    </tr>\n",
       "    <tr>\n",
       "      <th>73854</th>\n",
       "      <td>tt9886934</td>\n",
       "      <td>7.0</td>\n",
       "      <td>5</td>\n",
       "    </tr>\n",
       "    <tr>\n",
       "      <th>73855</th>\n",
       "      <td>tt9894098</td>\n",
       "      <td>6.3</td>\n",
       "      <td>128</td>\n",
       "    </tr>\n",
       "  </tbody>\n",
       "</table>\n",
       "<p>73856 rows × 3 columns</p>\n",
       "</div>"
      ],
      "text/plain": [
       "         movie_id  averagerating  numvotes\n",
       "0      tt10356526            8.3        31\n",
       "1      tt10384606            8.9       559\n",
       "2       tt1042974            6.4        20\n",
       "3       tt1043726            4.2     50352\n",
       "4       tt1060240            6.5        21\n",
       "...           ...            ...       ...\n",
       "73851   tt9805820            8.1        25\n",
       "73852   tt9844256            7.5        24\n",
       "73853   tt9851050            4.7        14\n",
       "73854   tt9886934            7.0         5\n",
       "73855   tt9894098            6.3       128\n",
       "\n",
       "[73856 rows x 3 columns]"
      ]
     },
     "execution_count": 32,
     "metadata": {},
     "output_type": "execute_result"
    }
   ],
   "source": [
    "imdb_data1"
   ]
  },
  {
   "cell_type": "code",
   "execution_count": 33,
   "metadata": {},
   "outputs": [
    {
     "data": {
      "text/html": [
       "<div>\n",
       "<style scoped>\n",
       "    .dataframe tbody tr th:only-of-type {\n",
       "        vertical-align: middle;\n",
       "    }\n",
       "\n",
       "    .dataframe tbody tr th {\n",
       "        vertical-align: top;\n",
       "    }\n",
       "\n",
       "    .dataframe thead th {\n",
       "        text-align: right;\n",
       "    }\n",
       "</style>\n",
       "<table border=\"1\" class=\"dataframe\">\n",
       "  <thead>\n",
       "    <tr style=\"text-align: right;\">\n",
       "      <th></th>\n",
       "      <th>movie_id</th>\n",
       "      <th>primary_title</th>\n",
       "      <th>original_title</th>\n",
       "      <th>start_year</th>\n",
       "      <th>runtime_minutes</th>\n",
       "      <th>genres</th>\n",
       "    </tr>\n",
       "  </thead>\n",
       "  <tbody>\n",
       "    <tr>\n",
       "      <th>0</th>\n",
       "      <td>tt0063540</td>\n",
       "      <td>Sunghursh</td>\n",
       "      <td>Sunghursh</td>\n",
       "      <td>2013</td>\n",
       "      <td>175.0</td>\n",
       "      <td>Action,Crime,Drama</td>\n",
       "    </tr>\n",
       "    <tr>\n",
       "      <th>1</th>\n",
       "      <td>tt0066787</td>\n",
       "      <td>One Day Before the Rainy Season</td>\n",
       "      <td>Ashad Ka Ek Din</td>\n",
       "      <td>2019</td>\n",
       "      <td>114.0</td>\n",
       "      <td>Biography,Drama</td>\n",
       "    </tr>\n",
       "    <tr>\n",
       "      <th>2</th>\n",
       "      <td>tt0069049</td>\n",
       "      <td>The Other Side of the Wind</td>\n",
       "      <td>The Other Side of the Wind</td>\n",
       "      <td>2018</td>\n",
       "      <td>122.0</td>\n",
       "      <td>Drama</td>\n",
       "    </tr>\n",
       "    <tr>\n",
       "      <th>3</th>\n",
       "      <td>tt0069204</td>\n",
       "      <td>Sabse Bada Sukh</td>\n",
       "      <td>Sabse Bada Sukh</td>\n",
       "      <td>2018</td>\n",
       "      <td>NaN</td>\n",
       "      <td>Comedy,Drama</td>\n",
       "    </tr>\n",
       "    <tr>\n",
       "      <th>4</th>\n",
       "      <td>tt0100275</td>\n",
       "      <td>The Wandering Soap Opera</td>\n",
       "      <td>La Telenovela Errante</td>\n",
       "      <td>2017</td>\n",
       "      <td>80.0</td>\n",
       "      <td>Comedy,Drama,Fantasy</td>\n",
       "    </tr>\n",
       "    <tr>\n",
       "      <th>...</th>\n",
       "      <td>...</td>\n",
       "      <td>...</td>\n",
       "      <td>...</td>\n",
       "      <td>...</td>\n",
       "      <td>...</td>\n",
       "      <td>...</td>\n",
       "    </tr>\n",
       "    <tr>\n",
       "      <th>146139</th>\n",
       "      <td>tt9916538</td>\n",
       "      <td>Kuambil Lagi Hatiku</td>\n",
       "      <td>Kuambil Lagi Hatiku</td>\n",
       "      <td>2019</td>\n",
       "      <td>123.0</td>\n",
       "      <td>Drama</td>\n",
       "    </tr>\n",
       "    <tr>\n",
       "      <th>146140</th>\n",
       "      <td>tt9916622</td>\n",
       "      <td>Rodolpho Teóphilo - O Legado de um Pioneiro</td>\n",
       "      <td>Rodolpho Teóphilo - O Legado de um Pioneiro</td>\n",
       "      <td>2015</td>\n",
       "      <td>NaN</td>\n",
       "      <td>Documentary</td>\n",
       "    </tr>\n",
       "    <tr>\n",
       "      <th>146141</th>\n",
       "      <td>tt9916706</td>\n",
       "      <td>Dankyavar Danka</td>\n",
       "      <td>Dankyavar Danka</td>\n",
       "      <td>2013</td>\n",
       "      <td>NaN</td>\n",
       "      <td>Comedy</td>\n",
       "    </tr>\n",
       "    <tr>\n",
       "      <th>146142</th>\n",
       "      <td>tt9916730</td>\n",
       "      <td>6 Gunn</td>\n",
       "      <td>6 Gunn</td>\n",
       "      <td>2017</td>\n",
       "      <td>116.0</td>\n",
       "      <td>None</td>\n",
       "    </tr>\n",
       "    <tr>\n",
       "      <th>146143</th>\n",
       "      <td>tt9916754</td>\n",
       "      <td>Chico Albuquerque - Revelações</td>\n",
       "      <td>Chico Albuquerque - Revelações</td>\n",
       "      <td>2013</td>\n",
       "      <td>NaN</td>\n",
       "      <td>Documentary</td>\n",
       "    </tr>\n",
       "  </tbody>\n",
       "</table>\n",
       "<p>146144 rows × 6 columns</p>\n",
       "</div>"
      ],
      "text/plain": [
       "         movie_id                                primary_title  \\\n",
       "0       tt0063540                                    Sunghursh   \n",
       "1       tt0066787              One Day Before the Rainy Season   \n",
       "2       tt0069049                   The Other Side of the Wind   \n",
       "3       tt0069204                              Sabse Bada Sukh   \n",
       "4       tt0100275                     The Wandering Soap Opera   \n",
       "...           ...                                          ...   \n",
       "146139  tt9916538                          Kuambil Lagi Hatiku   \n",
       "146140  tt9916622  Rodolpho Teóphilo - O Legado de um Pioneiro   \n",
       "146141  tt9916706                              Dankyavar Danka   \n",
       "146142  tt9916730                                       6 Gunn   \n",
       "146143  tt9916754               Chico Albuquerque - Revelações   \n",
       "\n",
       "                                     original_title  start_year  \\\n",
       "0                                         Sunghursh        2013   \n",
       "1                                   Ashad Ka Ek Din        2019   \n",
       "2                        The Other Side of the Wind        2018   \n",
       "3                                   Sabse Bada Sukh        2018   \n",
       "4                             La Telenovela Errante        2017   \n",
       "...                                             ...         ...   \n",
       "146139                          Kuambil Lagi Hatiku        2019   \n",
       "146140  Rodolpho Teóphilo - O Legado de um Pioneiro        2015   \n",
       "146141                              Dankyavar Danka        2013   \n",
       "146142                                       6 Gunn        2017   \n",
       "146143               Chico Albuquerque - Revelações        2013   \n",
       "\n",
       "        runtime_minutes                genres  \n",
       "0                 175.0    Action,Crime,Drama  \n",
       "1                 114.0       Biography,Drama  \n",
       "2                 122.0                 Drama  \n",
       "3                   NaN          Comedy,Drama  \n",
       "4                  80.0  Comedy,Drama,Fantasy  \n",
       "...                 ...                   ...  \n",
       "146139            123.0                 Drama  \n",
       "146140              NaN           Documentary  \n",
       "146141              NaN                Comedy  \n",
       "146142            116.0                  None  \n",
       "146143              NaN           Documentary  \n",
       "\n",
       "[146144 rows x 6 columns]"
      ]
     },
     "execution_count": 33,
     "metadata": {},
     "output_type": "execute_result"
    }
   ],
   "source": [
    "imdb_data2 = pd.read_sql(\"\"\" select * from movie_basics\"\"\" , conn)\n",
    "imdb_data2"
   ]
  },
  {
   "cell_type": "code",
   "execution_count": 34,
   "metadata": {},
   "outputs": [
    {
     "data": {
      "text/html": [
       "<div>\n",
       "<style scoped>\n",
       "    .dataframe tbody tr th:only-of-type {\n",
       "        vertical-align: middle;\n",
       "    }\n",
       "\n",
       "    .dataframe tbody tr th {\n",
       "        vertical-align: top;\n",
       "    }\n",
       "\n",
       "    .dataframe thead th {\n",
       "        text-align: right;\n",
       "    }\n",
       "</style>\n",
       "<table border=\"1\" class=\"dataframe\">\n",
       "  <thead>\n",
       "    <tr style=\"text-align: right;\">\n",
       "      <th></th>\n",
       "      <th>primary_title</th>\n",
       "      <th>start_year</th>\n",
       "      <th>genres</th>\n",
       "      <th>averagerating</th>\n",
       "      <th>numvotes</th>\n",
       "    </tr>\n",
       "  </thead>\n",
       "  <tbody>\n",
       "    <tr>\n",
       "      <th>0</th>\n",
       "      <td>Inception</td>\n",
       "      <td>2010</td>\n",
       "      <td>Action,Adventure,Sci-Fi</td>\n",
       "      <td>8.8</td>\n",
       "      <td>1841066</td>\n",
       "    </tr>\n",
       "    <tr>\n",
       "      <th>1</th>\n",
       "      <td>Interstellar</td>\n",
       "      <td>2014</td>\n",
       "      <td>Adventure,Drama,Sci-Fi</td>\n",
       "      <td>8.6</td>\n",
       "      <td>1299334</td>\n",
       "    </tr>\n",
       "    <tr>\n",
       "      <th>2</th>\n",
       "      <td>The Dark Knight Rises</td>\n",
       "      <td>2012</td>\n",
       "      <td>Action,Thriller</td>\n",
       "      <td>8.4</td>\n",
       "      <td>1387769</td>\n",
       "    </tr>\n",
       "    <tr>\n",
       "      <th>3</th>\n",
       "      <td>Django Unchained</td>\n",
       "      <td>2012</td>\n",
       "      <td>Drama,Western</td>\n",
       "      <td>8.4</td>\n",
       "      <td>1211405</td>\n",
       "    </tr>\n",
       "    <tr>\n",
       "      <th>4</th>\n",
       "      <td>The Wolf of Wall Street</td>\n",
       "      <td>2013</td>\n",
       "      <td>Biography,Crime,Drama</td>\n",
       "      <td>8.2</td>\n",
       "      <td>1035358</td>\n",
       "    </tr>\n",
       "  </tbody>\n",
       "</table>\n",
       "</div>"
      ],
      "text/plain": [
       "             primary_title  start_year                   genres  \\\n",
       "0                Inception        2010  Action,Adventure,Sci-Fi   \n",
       "1             Interstellar        2014   Adventure,Drama,Sci-Fi   \n",
       "2    The Dark Knight Rises        2012          Action,Thriller   \n",
       "3         Django Unchained        2012            Drama,Western   \n",
       "4  The Wolf of Wall Street        2013    Biography,Crime,Drama   \n",
       "\n",
       "   averagerating  numvotes  \n",
       "0            8.8   1841066  \n",
       "1            8.6   1299334  \n",
       "2            8.4   1387769  \n",
       "3            8.4   1211405  \n",
       "4            8.2   1035358  "
      ]
     },
     "execution_count": 34,
     "metadata": {},
     "output_type": "execute_result"
    }
   ],
   "source": [
    "# Joining Tables\n",
    "imdb_data =pd.read_sql(\"\"\" SELECT primary_title, start_year, genres, averagerating, numvotes\n",
    "FROM movie_basics AS MB\n",
    "JOIN movie_ratings AS MR\n",
    "ON MB.movie_id = MR.movie_id\n",
    "WHERE numvotes > 1000000 AND averagerating BETWEEN 6.8 AND 9.2\n",
    "ORDER BY averagerating DESC\n",
    "LIMIT 50; \"\"\", conn)\n",
    "\n",
    "imdb_data.head()\n"
   ]
  },
  {
   "cell_type": "code",
   "execution_count": 35,
   "metadata": {},
   "outputs": [
    {
     "data": {
      "text/html": [
       "<div>\n",
       "<style scoped>\n",
       "    .dataframe tbody tr th:only-of-type {\n",
       "        vertical-align: middle;\n",
       "    }\n",
       "\n",
       "    .dataframe tbody tr th {\n",
       "        vertical-align: top;\n",
       "    }\n",
       "\n",
       "    .dataframe thead th {\n",
       "        text-align: right;\n",
       "    }\n",
       "</style>\n",
       "<table border=\"1\" class=\"dataframe\">\n",
       "  <thead>\n",
       "    <tr style=\"text-align: right;\">\n",
       "      <th></th>\n",
       "      <th>primary_title</th>\n",
       "      <th>start_year</th>\n",
       "      <th>genres</th>\n",
       "      <th>averagerating</th>\n",
       "      <th>numvotes</th>\n",
       "    </tr>\n",
       "  </thead>\n",
       "  <tbody>\n",
       "    <tr>\n",
       "      <th>0</th>\n",
       "      <td>Inception</td>\n",
       "      <td>2010</td>\n",
       "      <td>Action,Adventure,Sci-Fi</td>\n",
       "      <td>8.8</td>\n",
       "      <td>1841066</td>\n",
       "    </tr>\n",
       "    <tr>\n",
       "      <th>6</th>\n",
       "      <td>The Avengers</td>\n",
       "      <td>2012</td>\n",
       "      <td>Action,Adventure,Sci-Fi</td>\n",
       "      <td>8.1</td>\n",
       "      <td>1183655</td>\n",
       "    </tr>\n",
       "  </tbody>\n",
       "</table>\n",
       "</div>"
      ],
      "text/plain": [
       "  primary_title  start_year                   genres  averagerating  numvotes\n",
       "0     Inception        2010  Action,Adventure,Sci-Fi            8.8   1841066\n",
       "6  The Avengers        2012  Action,Adventure,Sci-Fi            8.1   1183655"
      ]
     },
     "execution_count": 35,
     "metadata": {},
     "output_type": "execute_result"
    }
   ],
   "source": [
    "grouped = imdb_data.groupby('genres')\n",
    "grouped.get_group('Action,Adventure,Sci-Fi')"
   ]
  },
  {
   "cell_type": "code",
   "execution_count": 36,
   "metadata": {},
   "outputs": [
    {
     "data": {
      "text/html": [
       "<div>\n",
       "<style scoped>\n",
       "    .dataframe tbody tr th:only-of-type {\n",
       "        vertical-align: middle;\n",
       "    }\n",
       "\n",
       "    .dataframe tbody tr th {\n",
       "        vertical-align: top;\n",
       "    }\n",
       "\n",
       "    .dataframe thead th {\n",
       "        text-align: right;\n",
       "    }\n",
       "</style>\n",
       "<table border=\"1\" class=\"dataframe\">\n",
       "  <thead>\n",
       "    <tr style=\"text-align: right;\">\n",
       "      <th></th>\n",
       "      <th>numvotes</th>\n",
       "    </tr>\n",
       "    <tr>\n",
       "      <th>genres</th>\n",
       "      <th></th>\n",
       "    </tr>\n",
       "  </thead>\n",
       "  <tbody>\n",
       "    <tr>\n",
       "      <th>Action,Adventure,Sci-Fi</th>\n",
       "      <td>1512360.5</td>\n",
       "    </tr>\n",
       "    <tr>\n",
       "      <th>Action,Thriller</th>\n",
       "      <td>1387769.0</td>\n",
       "    </tr>\n",
       "    <tr>\n",
       "      <th>Adventure,Drama,Sci-Fi</th>\n",
       "      <td>1299334.0</td>\n",
       "    </tr>\n",
       "    <tr>\n",
       "      <th>Drama,Western</th>\n",
       "      <td>1211405.0</td>\n",
       "    </tr>\n",
       "    <tr>\n",
       "      <th>Biography,Crime,Drama</th>\n",
       "      <td>1035358.0</td>\n",
       "    </tr>\n",
       "    <tr>\n",
       "      <th>Mystery,Thriller</th>\n",
       "      <td>1005960.0</td>\n",
       "    </tr>\n",
       "  </tbody>\n",
       "</table>\n",
       "</div>"
      ],
      "text/plain": [
       "                          numvotes\n",
       "genres                            \n",
       "Action,Adventure,Sci-Fi  1512360.5\n",
       "Action,Thriller          1387769.0\n",
       "Adventure,Drama,Sci-Fi   1299334.0\n",
       "Drama,Western            1211405.0\n",
       "Biography,Crime,Drama    1035358.0\n",
       "Mystery,Thriller         1005960.0"
      ]
     },
     "execution_count": 36,
     "metadata": {},
     "output_type": "execute_result"
    }
   ],
   "source": [
    "genres_mean_sorted = pd.DataFrame(imdb_data.groupby(\"genres\")[\"numvotes\"].mean()).sort_values(by=\"numvotes\", ascending= False)\n",
    "genres_mean_sorted"
   ]
  },
  {
   "cell_type": "code",
   "execution_count": 37,
   "metadata": {},
   "outputs": [
    {
     "data": {
      "text/html": [
       "<div>\n",
       "<style scoped>\n",
       "    .dataframe tbody tr th:only-of-type {\n",
       "        vertical-align: middle;\n",
       "    }\n",
       "\n",
       "    .dataframe tbody tr th {\n",
       "        vertical-align: top;\n",
       "    }\n",
       "\n",
       "    .dataframe thead th {\n",
       "        text-align: right;\n",
       "    }\n",
       "</style>\n",
       "<table border=\"1\" class=\"dataframe\">\n",
       "  <thead>\n",
       "    <tr style=\"text-align: right;\">\n",
       "      <th></th>\n",
       "      <th>numvotes</th>\n",
       "    </tr>\n",
       "    <tr>\n",
       "      <th>genres</th>\n",
       "      <th></th>\n",
       "    </tr>\n",
       "  </thead>\n",
       "  <tbody>\n",
       "    <tr>\n",
       "      <th>Action,Adventure,Sci-Fi</th>\n",
       "      <td>1512360.5</td>\n",
       "    </tr>\n",
       "    <tr>\n",
       "      <th>Action,Thriller</th>\n",
       "      <td>1387769.0</td>\n",
       "    </tr>\n",
       "    <tr>\n",
       "      <th>Adventure,Drama,Sci-Fi</th>\n",
       "      <td>1299334.0</td>\n",
       "    </tr>\n",
       "    <tr>\n",
       "      <th>Drama,Western</th>\n",
       "      <td>1211405.0</td>\n",
       "    </tr>\n",
       "    <tr>\n",
       "      <th>Biography,Crime,Drama</th>\n",
       "      <td>1035358.0</td>\n",
       "    </tr>\n",
       "    <tr>\n",
       "      <th>Mystery,Thriller</th>\n",
       "      <td>1005960.0</td>\n",
       "    </tr>\n",
       "  </tbody>\n",
       "</table>\n",
       "</div>"
      ],
      "text/plain": [
       "                          numvotes\n",
       "genres                            \n",
       "Action,Adventure,Sci-Fi  1512360.5\n",
       "Action,Thriller          1387769.0\n",
       "Adventure,Drama,Sci-Fi   1299334.0\n",
       "Drama,Western            1211405.0\n",
       "Biography,Crime,Drama    1035358.0\n",
       "Mystery,Thriller         1005960.0"
      ]
     },
     "execution_count": 37,
     "metadata": {},
     "output_type": "execute_result"
    }
   ],
   "source": [
    "genres_mean_sorted = pd.DataFrame(imdb_data.groupby(\"genres\")[\"numvotes\"].mean()).sort_values(by=\"numvotes\", ascending= False).iloc[:10]\n",
    "genres_mean_sorted"
   ]
  },
  {
   "cell_type": "markdown",
   "metadata": {},
   "source": [
    "# ANALYSIS. "
   ]
  },
  {
   "cell_type": "markdown",
   "metadata": {},
   "source": [
    "# Studio and Domestic Gross"
   ]
  },
  {
   "cell_type": "markdown",
   "metadata": {},
   "source": [
    "After cleaning our data we want to performing analysis. For analysis we are looking at the which studios are doing well and producing better films. We will also look at which studios are going to be a competition for our microsoft studio. We are going to group our bom_movies dataset and group using studio and gross and plot a histogram to show the average domestic gross for the 10 top most studios. "
   ]
  },
  {
   "cell_type": "code",
   "execution_count": 38,
   "metadata": {},
   "outputs": [],
   "source": [
    "# grouping data by studio and domestic gross\n",
    "bom_movies_grouped = bom_movies.groupby('studio')[\"domestic_gross\"].mean()"
   ]
  },
  {
   "cell_type": "code",
   "execution_count": 39,
   "metadata": {},
   "outputs": [
    {
     "data": {
      "text/html": [
       "<div>\n",
       "<style scoped>\n",
       "    .dataframe tbody tr th:only-of-type {\n",
       "        vertical-align: middle;\n",
       "    }\n",
       "\n",
       "    .dataframe tbody tr th {\n",
       "        vertical-align: top;\n",
       "    }\n",
       "\n",
       "    .dataframe thead th {\n",
       "        text-align: right;\n",
       "    }\n",
       "</style>\n",
       "<table border=\"1\" class=\"dataframe\">\n",
       "  <thead>\n",
       "    <tr style=\"text-align: right;\">\n",
       "      <th></th>\n",
       "      <th>domestic_gross</th>\n",
       "    </tr>\n",
       "    <tr>\n",
       "      <th>studio</th>\n",
       "      <th></th>\n",
       "    </tr>\n",
       "  </thead>\n",
       "  <tbody>\n",
       "    <tr>\n",
       "      <th>3D</th>\n",
       "      <td>6.100000e+06</td>\n",
       "    </tr>\n",
       "    <tr>\n",
       "      <th>A23</th>\n",
       "      <td>8.210000e+04</td>\n",
       "    </tr>\n",
       "    <tr>\n",
       "      <th>A24</th>\n",
       "      <td>6.616208e+06</td>\n",
       "    </tr>\n",
       "    <tr>\n",
       "      <th>ADC</th>\n",
       "      <td>1.241000e+05</td>\n",
       "    </tr>\n",
       "    <tr>\n",
       "      <th>AF</th>\n",
       "      <td>3.571500e+05</td>\n",
       "    </tr>\n",
       "    <tr>\n",
       "      <th>...</th>\n",
       "      <td>...</td>\n",
       "    </tr>\n",
       "    <tr>\n",
       "      <th>XL</th>\n",
       "      <td>2.290000e+05</td>\n",
       "    </tr>\n",
       "    <tr>\n",
       "      <th>YFG</th>\n",
       "      <td>1.100000e+06</td>\n",
       "    </tr>\n",
       "    <tr>\n",
       "      <th>Yash</th>\n",
       "      <td>2.433185e+06</td>\n",
       "    </tr>\n",
       "    <tr>\n",
       "      <th>Zee</th>\n",
       "      <td>1.100000e+06</td>\n",
       "    </tr>\n",
       "    <tr>\n",
       "      <th>Zeit.</th>\n",
       "      <td>3.539688e+05</td>\n",
       "    </tr>\n",
       "  </tbody>\n",
       "</table>\n",
       "<p>255 rows × 1 columns</p>\n",
       "</div>"
      ],
      "text/plain": [
       "        domestic_gross\n",
       "studio                \n",
       "3D        6.100000e+06\n",
       "A23       8.210000e+04\n",
       "A24       6.616208e+06\n",
       "ADC       1.241000e+05\n",
       "AF        3.571500e+05\n",
       "...                ...\n",
       "XL        2.290000e+05\n",
       "YFG       1.100000e+06\n",
       "Yash      2.433185e+06\n",
       "Zee       1.100000e+06\n",
       "Zeit.     3.539688e+05\n",
       "\n",
       "[255 rows x 1 columns]"
      ]
     },
     "execution_count": 39,
     "metadata": {},
     "output_type": "execute_result"
    }
   ],
   "source": [
    "# df dataframe\n",
    "movies_grouped = pd.DataFrame(bom_movies_grouped)\n",
    "movies_grouped"
   ]
  },
  {
   "cell_type": "code",
   "execution_count": 40,
   "metadata": {},
   "outputs": [],
   "source": [
    "# sorting grouped data\n",
    "Grouped_movies = movies_grouped.sort_values(by = [\"domestic_gross\"], ascending = False)"
   ]
  },
  {
   "cell_type": "code",
   "execution_count": 41,
   "metadata": {},
   "outputs": [
    {
     "data": {
      "text/html": [
       "<div>\n",
       "<style scoped>\n",
       "    .dataframe tbody tr th:only-of-type {\n",
       "        vertical-align: middle;\n",
       "    }\n",
       "\n",
       "    .dataframe tbody tr th {\n",
       "        vertical-align: top;\n",
       "    }\n",
       "\n",
       "    .dataframe thead th {\n",
       "        text-align: right;\n",
       "    }\n",
       "</style>\n",
       "<table border=\"1\" class=\"dataframe\">\n",
       "  <thead>\n",
       "    <tr style=\"text-align: right;\">\n",
       "      <th></th>\n",
       "      <th>domestic_gross</th>\n",
       "    </tr>\n",
       "    <tr>\n",
       "      <th>studio</th>\n",
       "      <th></th>\n",
       "    </tr>\n",
       "  </thead>\n",
       "  <tbody>\n",
       "    <tr>\n",
       "      <th>BV</th>\n",
       "      <td>1.737644e+08</td>\n",
       "    </tr>\n",
       "    <tr>\n",
       "      <th>P/DW</th>\n",
       "      <td>1.682900e+08</td>\n",
       "    </tr>\n",
       "    <tr>\n",
       "      <th>WB (NL)</th>\n",
       "      <td>8.879333e+07</td>\n",
       "    </tr>\n",
       "    <tr>\n",
       "      <th>Uni.</th>\n",
       "      <td>8.777138e+07</td>\n",
       "    </tr>\n",
       "    <tr>\n",
       "      <th>WB</th>\n",
       "      <td>8.691461e+07</td>\n",
       "    </tr>\n",
       "    <tr>\n",
       "      <th>Fox</th>\n",
       "      <td>8.051103e+07</td>\n",
       "    </tr>\n",
       "    <tr>\n",
       "      <th>Sony</th>\n",
       "      <td>7.761177e+07</td>\n",
       "    </tr>\n",
       "    <tr>\n",
       "      <th>Par.</th>\n",
       "      <td>7.609773e+07</td>\n",
       "    </tr>\n",
       "    <tr>\n",
       "      <th>MGM</th>\n",
       "      <td>6.666667e+07</td>\n",
       "    </tr>\n",
       "    <tr>\n",
       "      <th>Sum.</th>\n",
       "      <td>6.212473e+07</td>\n",
       "    </tr>\n",
       "  </tbody>\n",
       "</table>\n",
       "</div>"
      ],
      "text/plain": [
       "         domestic_gross\n",
       "studio                 \n",
       "BV         1.737644e+08\n",
       "P/DW       1.682900e+08\n",
       "WB (NL)    8.879333e+07\n",
       "Uni.       8.777138e+07\n",
       "WB         8.691461e+07\n",
       "Fox        8.051103e+07\n",
       "Sony       7.761177e+07\n",
       "Par.       7.609773e+07\n",
       "MGM        6.666667e+07\n",
       "Sum.       6.212473e+07"
      ]
     },
     "execution_count": 41,
     "metadata": {},
     "output_type": "execute_result"
    }
   ],
   "source": [
    "topmost_studios = Grouped_movies.head(10)\n",
    "topmost_studios"
   ]
  },
  {
   "cell_type": "code",
   "execution_count": 42,
   "metadata": {},
   "outputs": [
    {
     "data": {
      "image/png": "[encoded data removed]",
      "text/plain": [
       "<Figure size 640x480 with 1 Axes>"
      ]
     },
     "metadata": {},
     "output_type": "display_data"
    }
   ],
   "source": [
    "# plotting histogram\n",
    "plt.bar(topmost_studios[\"domestic_gross\"].index, topmost_studios[\"domestic_gross\"].values, color=\"blue\" , width = 0.9)\n",
    "plt.xticks(rotation = 45 , fontsize = 10 , fontweight = \"bold\" , color = \"purple\")\n",
    "plt.xlabel(\"Studios\" , fontsize = 10 , fontweight = \"bold\")\n",
    "plt.ylabel(\"Average Domestic Gross\", fontsize = 10 , fontweight = \"bold\")\n",
    "plt.title(\"10 Topmost Studios by Domestic Gross\", fontsize = 10 , fontweight = \"bold\")\n",
    "plt.gcf().set_size_inches = \"9 ,8\"\n",
    "plt.show()"
   ]
  },
  {
   "cell_type": "markdown",
   "metadata": {},
   "source": [
    "### Explanation\n",
    "Looking at the top 10 studios that are producing movies we find that at the top is BV whos domesting gross is averaging at 1.73m while at P/DW is averaging at 1.68m at second position. Most of the studios are averaging between 6 and 8m. For microsoft to be the best film producing studio they will look forward to competing with BV studios and P/DW studios. Microsoft can learn from BV and P/DW studios and discover what makes them the best studios with the highest averaging domestic gross.  \n"
   ]
  },
  {
   "cell_type": "markdown",
   "metadata": {},
   "source": [
    "# Return Investments and Production Budget"
   ]
  },
  {
   "cell_type": "markdown",
   "metadata": {},
   "source": [
    "We are performing analysis for the movie budget dataset. For analysis we are looking at the production cost which we are going to compare with the return investment. We want to see if there is a linear relationship between the production budget of the movie and the return on investment. To compare the two we will draw a line graph. \n",
    " \n",
    "  "
   ]
  },
  {
   "cell_type": "code",
   "execution_count": 46,
   "metadata": {},
   "outputs": [
    {
     "data": {
      "image/png": "[encoded data removed]",
      "text/plain": [
       "<Figure size 640x480 with 1 Axes>"
      ]
     },
     "metadata": {},
     "output_type": "display_data"
    }
   ],
   "source": [
    "#plotting bar graph\n",
    "x = tn_movies_sorted['return_investment']\n",
    "y = tn_movies_sorted['production_budget']\n",
    "plt.plot(x,y)\n",
    "plt.xticks(rotation = 45 , fontsize = 10 , fontweight = \"bold\" )\n",
    "plt.xlabel(\"return_investment\" , fontsize = 10 , fontweight = \"bold\" ,  color = \"orange\")\n",
    "plt.ylabel(\"production_budget\", fontsize = 10 , fontweight = \"bold\" ,  color = \"orange\" )\n",
    "plt.title(\"Return on Investment vs Production_Budget\", fontsize = 10 , fontweight = \"bold\", color = \"Purple\")\n",
    "plt.gcf().set_size_inches = \"9 ,8\"\n",
    "plt.show()\n",
    "\n",
    "\n"
   ]
  },
  {
   "cell_type": "markdown",
   "metadata": {},
   "source": [
    "### Explanation\n",
    "For this analysis we looked at the return investment aganist the production budget. According to the line graph we can clearly see that there is no linear relationship between the movie production budget and the profit made from the movies. Microsoft should look at other ways to make a movie successful rather than having a big production budget. "
   ]
  },
  {
   "cell_type": "markdown",
   "metadata": {},
   "source": [
    "# Genre and Numvotes"
   ]
  },
  {
   "cell_type": "markdown",
   "metadata": {},
   "source": [
    "For this analysis we are looking for the genre which has the most votes. Our data is grouped by genre and numvotes this will tell us which movie genre has the most votes. For this analysis we draw a figure that clearly depicts the studios with the number of votes that they acquired. "
   ]
  },
  {
   "cell_type": "code",
   "execution_count": 45,
   "metadata": {},
   "outputs": [
    {
     "data": {
      "image/png": "[encoded data removed]",
      "text/plain": [
       "<Figure size 1000x800 with 1 Axes>"
      ]
     },
     "metadata": {},
     "output_type": "display_data"
    }
   ],
   "source": [
    "#plotting the graph\n",
    "plt.figure(figsize=(10, 8))\n",
    "y = genres_mean_sorted[\"numvotes\"]\n",
    "plt.bar(y.index, y.values)\n",
    "plt.xticks(rotation = 45 , fontsize = 10 , fontweight = \"bold\")\n",
    "plt.xlabel(\"Genre\" , fontsize = 10 , fontweight = \"bold\", color = \"purple\")\n",
    "plt.ylabel(\"Numvotes\", fontsize = 10 , fontweight = \"bold\" ,  color = \"purple\")\n",
    "plt.title(\"Genre aganist Numvotes\", fontsize = 10 , fontweight = \"bold\" , color = \"purple\")\n",
    "plt.gcf().set_size_inches = \"9 ,8\"\n",
    "plt.show()\n",
    "\n"
   ]
  },
  {
   "cell_type": "markdown",
   "metadata": {},
   "source": [
    "### Explanation\n",
    "For this analysis we have looked at the genre movies aganist the number of votes. According to the graph action,adventure,sci-fi is the most streamed movie as it acquired the most votes averaging at 1512360 votes. Action and thriller movies are the second most streamed movies with 1387769 votes. The least watched genre was mystery and thriller with 1005960 votes. Microsoft may consider producing more action,adventure,sci-fi movies as they are the most watched and they can also double down on action and thriller without excluding the other genres as they average between 1m and 1.3m votes which is still high. "
   ]
  },
  {
   "cell_type": "markdown",
   "metadata": {},
   "source": [
    "## Conclusions"
   ]
  },
  {
   "cell_type": "markdown",
   "metadata": {},
   "source": [
    "This analysis leads to three recommendations that Microsoft should consider when creating their new studio:\n",
    "1. Microsoft should do more research and learn from BV and P/DW studios and discover what makes them the best studios with the highest averaging domestic gross.\n",
    "2. Microsoft should look at other ways to make a movie successful rather than having a big production budget. since theres no correlation between the budget and the movies success microsoft can consider looking for good script writers, directors , actors and quality videos for the success of the movies.\n",
    "3. Microsoft may consider producing more action,adventure,sci-fi movies as they are the most watched and they can also double down on action and thriller without excluding the other genres.\n",
    "    \n",
    "    \n",
    "    \n",
    "    "
   ]
  },
  {
   "cell_type": "markdown",
   "metadata": {},
   "source": [
    "## Next Step"
   ]
  },
  {
   "cell_type": "markdown",
   "metadata": {},
   "source": [
    "More research and further analysis could be helpful in yielding additional insights that Microsoft would use when setting up their studio. They should focus on gaining insights and familiarity for later investigation. \n",
    "1. Predicting undesirable outcomes- this models could help microsoft to be prepared they should consider investigating possible negative outcomes that can occur so that they can look for ways to overcome them.\n",
    "2. Modelling for qualified personnel- Modelling how impactful having qualified personnel could help in realising what makes movies successful since we so there no linear relationship between production budget and the success of the movie\n",
    "3. More and better predictions on the genre of movies that that are a success - the models would give more insights on the kind of movies that the studio could focus on.\n"
   ]
  },
  {
   "cell_type": "markdown",
   "metadata": {},
   "source": [
    "### Thank you \n",
    "Nyokabi Waiganjo\n",
    "waiganjo.s.nyokabi@gmail.com\n"
   ]
  },
  {
   "cell_type": "code",
   "execution_count": null,
   "metadata": {},
   "outputs": [],
   "source": []
  }
 ],
 "metadata": {
  "kernelspec": {
   "display_name": "Python 3",
   "language": "python",
   "name": "python3"
  },
  "language_info": {
   "codemirror_mode": {
    "name": "ipython",
    "version": 3
   },
   "file_extension": ".py",
   "mimetype": "text/x-python",
   "name": "python",
   "nbconvert_exporter": "python",
   "pygments_lexer": "ipython3",
   "version": "3.8.5"
  }
 },
 "nbformat": 4,
 "nbformat_minor": 2
}
